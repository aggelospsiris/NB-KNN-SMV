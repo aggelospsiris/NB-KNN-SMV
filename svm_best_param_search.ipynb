{
  "cells": [
    {
      "cell_type": "markdown",
      "metadata": {
        "id": "view-in-github",
        "colab_type": "text"
      },
      "source": [
        "<a href=\"https://colab.research.google.com/github/aggelospsiris/NB-KNN-SMV/blob/main/svm_best_param_search.ipynb\" target=\"_parent\"><img src=\"https://colab.research.google.com/assets/colab-badge.svg\" alt=\"Open In Colab\"/></a>"
      ]
    },
    {
      "cell_type": "code",
      "execution_count": null,
      "metadata": {
        "id": "8pyGuY2FQzWO",
        "colab": {
          "base_uri": "https://localhost:8080/"
        },
        "outputId": "9f996d40-402a-4912-e33f-d28cf1a63edf"
      },
      "outputs": [
        {
          "output_type": "stream",
          "name": "stdout",
          "text": [
            "Drive already mounted at /drive; to attempt to forcibly remount, call drive.mount(\"/drive\", force_remount=True).\n"
          ]
        }
      ],
      "source": [
        "import pandas as pd\n",
        "import numpy as np\n",
        "from math import sqrt\n",
        "import warnings\n",
        "warnings.filterwarnings('ignore')\n",
        "from google.colab import drive \n",
        "drive.mount('/drive')\n",
        "df=pd.read_csv('/drive/My Drive/Colab Notebooks/decision_theory/processed_data.csv')"
      ]
    },
    {
      "cell_type": "code",
      "source": [
        "df = df.drop(columns=['Unnamed: 0'])"
      ],
      "metadata": {
        "id": "0Oe-ywkT5JTA"
      },
      "execution_count": null,
      "outputs": []
    },
    {
      "cell_type": "code",
      "execution_count": null,
      "metadata": {
        "id": "Y8wKTsTFQ73_"
      },
      "outputs": [],
      "source": [
        "# Split into input and output\n",
        "X = df.values[:, :-1]\n",
        "Y = df.values[:, -1]\n",
        "#normalization between [-1 1]\n",
        "#a = np.array(X)\n",
        "#X = 2.*(a - np.min(a))/np.ptp(a)-1\n",
        "\n",
        "#For finding the best c and gamma i normalized my data with standard scaler cause \n",
        "#when i normalized them in [-1,1] svc return the same accuracy with different gammas and c\n",
        "#cause probably the weights during training stayied the same with the input between [-1,1]\n",
        "from sklearn import preprocessing \n",
        "scaler = preprocessing.StandardScaler().fit(X)\n",
        "X = scaler.transform(X)"
      ]
    },
    {
      "cell_type": "code",
      "execution_count": null,
      "metadata": {
        "id": "kiasuAEa6pPq"
      },
      "outputs": [],
      "source": [
        "from sklearn.model_selection import train_test_split\n",
        "from sklearn.svm import SVC\n",
        "from sklearn import metrics\n",
        "\n",
        "#split data for train and test\n",
        "X_train, X_test, y_train, y_test = train_test_split(X, Y, test_size=0.2, random_state=42)\n"
      ]
    },
    {
      "cell_type": "code",
      "execution_count": null,
      "metadata": {
        "colab": {
          "base_uri": "https://localhost:8080/"
        },
        "id": "3BVXpOU7SLh2",
        "outputId": "a74f58d8-6a91-446d-ad3d-ff2bbd7df435"
      },
      "outputs": [
        {
          "output_type": "stream",
          "name": "stdout",
          "text": [
            "0.7435897435897436\n",
            "Current best accuracy : 0.7435897435897436\n",
            "Current best C : 1\n",
            "0.7350427350427351\n",
            "0.7521367521367521\n",
            "Current best accuracy : 0.7521367521367521\n",
            "Current best C : 11\n",
            "0.7521367521367521\n",
            "0.7777777777777778\n",
            "Current best accuracy : 0.7777777777777778\n",
            "Current best C : 21\n",
            "0.7606837606837606\n",
            "0.7692307692307693\n",
            "0.7350427350427351\n",
            "0.7435897435897436\n",
            "0.7777777777777778\n",
            "0.7350427350427351\n",
            "0.7435897435897436\n",
            "0.7606837606837606\n",
            "0.717948717948718\n",
            "0.7692307692307693\n",
            "0.7008547008547008\n",
            "0.7435897435897436\n",
            "0.7435897435897436\n",
            "0.7521367521367521\n",
            "0.7350427350427351\n",
            "0.7606837606837606\n",
            "0.7606837606837606\n",
            "0.7094017094017094\n",
            "0.7264957264957265\n",
            "0.7777777777777778\n",
            "0.7094017094017094\n",
            "0.7094017094017094\n",
            "0.7521367521367521\n",
            "0.7777777777777778\n",
            "0.7435897435897436\n",
            "0.7094017094017094\n",
            "0.717948717948718\n",
            "0.7435897435897436\n",
            "0.7350427350427351\n",
            "0.717948717948718\n",
            "0.7264957264957265\n",
            "0.7435897435897436\n",
            "0.7350427350427351\n",
            "0.7435897435897436\n",
            "0.7435897435897436\n"
          ]
        }
      ],
      "source": [
        "#SEARCH FOR THE BEST C IN [1-200] WITH STEP=5 AND USING LINEAR \n",
        "#split data for train and test\n",
        "accuracy_best=0\n",
        "c_best= 1\n",
        "accuracy_list = []\n",
        "c_list = []\n",
        "for c in range(1, 200, 5) :\n",
        "  model = SVC(C=c,kernel='linear')\n",
        "  model.fit(X_train, y_train)\n",
        "  y_pred_SVC = model.predict(X_test)\n",
        "  accuracy = metrics.accuracy_score(y_test, y_pred_SVC)\n",
        "  print(accuracy)\n",
        "  c_list.append(c)\n",
        "  accuracy_list.append(accuracy)\n",
        "  if accuracy > accuracy_best:\n",
        "    accuracy_best = accuracy\n",
        "    c_best = c\n",
        "    print(\"Current best accuracy :\",accuracy)\n",
        "    print(\"Current best C :\",c_best)\n",
        "   "
      ]
    },
    {
      "cell_type": "code",
      "source": [
        "from matplotlib import pyplot\n",
        "#Plots\n",
        "pyplot.figure(0)\n",
        "pyplot.plot(c_list, accuracy_list)\n",
        "pyplot.ylabel(\"Accuracy\")\n",
        "pyplot.xlabel(\"C\")\n",
        "pyplot.legend()\n",
        "pyplot.tight_layout()\n",
        "pyplot.show()"
      ],
      "metadata": {
        "colab": {
          "base_uri": "https://localhost:8080/",
          "height": 314
        },
        "id": "Gl1pdFbnMixg",
        "outputId": "c13c9f86-4add-4ea4-bfab-29d9bbdb9f8a"
      },
      "execution_count": null,
      "outputs": [
        {
          "output_type": "stream",
          "name": "stderr",
          "text": [
            "WARNING:matplotlib.legend:No handles with labels found to put in legend.\n"
          ]
        },
        {
          "output_type": "display_data",
          "data": {
            "text/plain": [
              "<Figure size 432x288 with 1 Axes>"
            ],
            "image/png": "[encoded data removed]"
          },
          "metadata": {
            "needs_background": "light"
          }
        }
      ]
    },
    {
      "cell_type": "code",
      "execution_count": null,
      "metadata": {
        "id": "9UI6lA3fm37I",
        "colab": {
          "base_uri": "https://localhost:8080/"
        },
        "outputId": "75b6cd5c-3fe8-4344-dbc4-d4a4e8de48a2"
      },
      "outputs": [
        {
          "output_type": "stream",
          "name": "stdout",
          "text": [
            "0.7863247863247863\n",
            "Current best accuracy : 0.7863247863247863\n",
            "Current best gamma : 0.5\n",
            "0.7692307692307693\n",
            "0.7606837606837606\n",
            "0.7264957264957265\n",
            "0.7264957264957265\n",
            "0.7264957264957265\n",
            "0.7264957264957265\n",
            "0.717948717948718\n",
            "0.7094017094017094\n",
            "0.717948717948718\n",
            "0.717948717948718\n",
            "0.7264957264957265\n",
            "0.7264957264957265\n",
            "0.7264957264957265\n",
            "0.717948717948718\n",
            "0.7264957264957265\n",
            "0.7264957264957265\n",
            "0.7264957264957265\n",
            "0.7350427350427351\n"
          ]
        }
      ],
      "source": [
        "#SEARCH FOR THE BEST GAMMA IN [0:10] WITH STEP 0.5 AND WITH RBF\n",
        "from sklearn.svm import SVC\n",
        "from sklearn import metrics\n",
        "accuracy_best=0\n",
        "g_best= 0.5\n",
        "accuracy_list = []\n",
        "g_list = []\n",
        "for g in np.arange(0.5, 10, 0.5) :\n",
        "  model = SVC(C=c_best,gamma=g,kernel='rbf')\n",
        "  model.fit(X_train, y_train)\n",
        "  y_pred_SVC = model.predict(X_test)\n",
        "  accuracy = metrics.accuracy_score(y_test, y_pred_SVC)\n",
        "  print(accuracy)\n",
        "  g_list.append(g)\n",
        "  accuracy_list.append(accuracy)\n",
        "  if accuracy > accuracy_best:\n",
        "    accuracy_best = accuracy\n",
        "    g_best = g\n",
        "    print(\"Current best accuracy :\",accuracy)\n",
        "    print(\"Current best gamma :\",g_best)"
      ]
    },
    {
      "cell_type": "code",
      "execution_count": null,
      "metadata": {
        "id": "5XJf16x0lHB0",
        "outputId": "e22e059a-72b7-425f-a55a-b9d4cc737f4b",
        "colab": {
          "base_uri": "https://localhost:8080/",
          "height": 314
        }
      },
      "outputs": [
        {
          "output_type": "stream",
          "name": "stderr",
          "text": [
            "WARNING:matplotlib.legend:No handles with labels found to put in legend.\n"
          ]
        },
        {
          "output_type": "display_data",
          "data": {
            "text/plain": [
              "<Figure size 432x288 with 1 Axes>"
            ],
            "image/png": "[encoded data removed]"
          },
          "metadata": {
            "needs_background": "light"
          }
        }
      ],
      "source": [
        "from matplotlib import pyplot\n",
        "#Plots\n",
        "pyplot.figure(0)\n",
        "pyplot.plot(g_list, accuracy_list)\n",
        "pyplot.ylabel(\"Accuracy\")\n",
        "pyplot.xlabel(\"C\")\n",
        "pyplot.legend()\n",
        "pyplot.tight_layout()\n",
        "pyplot.show()"
      ]
    }
  ],
  "metadata": {
    "colab": {
      "provenance": [],
      "include_colab_link": true
    },
    "gpuClass": "standard",
    "kernelspec": {
      "display_name": "Python 3",
      "name": "python3"
    },
    "language_info": {
      "name": "python"
    }
  },
  "nbformat": 4,
  "nbformat_minor": 0
}