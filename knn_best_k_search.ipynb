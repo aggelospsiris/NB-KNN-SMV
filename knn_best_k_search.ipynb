{
  "nbformat": 4,
  "nbformat_minor": 0,
  "metadata": {
    "colab": {
      "provenance": [],
      "authorship_tag": "ABX9TyNAMZK3+sTcgo11KnP/m4Bg",
      "include_colab_link": true
    },
    "kernelspec": {
      "name": "python3",
      "display_name": "Python 3"
    },
    "language_info": {
      "name": "python"
    }
  },
  "cells": [
    {
      "cell_type": "markdown",
      "metadata": {
        "id": "view-in-github",
        "colab_type": "text"
      },
      "source": [
        "<a href=\"https://colab.research.google.com/github/aggelospsiris/NB-KNN-SMV/blob/main/knn_best_k_search.ipynb\" target=\"_parent\"><img src=\"https://colab.research.google.com/assets/colab-badge.svg\" alt=\"Open In Colab\"/></a>"
      ]
    },
    {
      "cell_type": "code",
      "execution_count": null,
      "metadata": {
        "colab": {
          "base_uri": "https://localhost:8080/"
        },
        "id": "oUf4MTY1ZM9y",
        "outputId": "237e66d8-2902-498f-9fb8-d58d4769d18c"
      },
      "outputs": [
        {
          "output_type": "stream",
          "name": "stdout",
          "text": [
            "Drive already mounted at /drive; to attempt to forcibly remount, call drive.mount(\"/drive\", force_remount=True).\n"
          ]
        }
      ],
      "source": [
        "import pandas as pd\n",
        "import numpy as np\n",
        "from math import sqrt\n",
        "import warnings\n",
        "warnings.filterwarnings('ignore')\n",
        "from google.colab import drive \n",
        "drive.mount('/drive')\n",
        "df=pd.read_csv('/drive/My Drive/Colab Notebooks/decision_theory/processed_data.csv')"
      ]
    },
    {
      "cell_type": "code",
      "source": [
        "df = df.drop(columns=['Unnamed: 0'])"
      ],
      "metadata": {
        "id": "iJ98q2KXT1Sk"
      },
      "execution_count": null,
      "outputs": []
    },
    {
      "cell_type": "code",
      "source": [
        "# Split into input and output\n",
        "X = df.values[:, :-1]\n",
        "Y = df.values[:, -1]\n",
        "#normalization between [-1 1]\n",
        "a = np.array(X)\n",
        "X = 2.*(a - np.min(a))/np.ptp(a)-1"
      ],
      "metadata": {
        "id": "0BYPPSxGZSiv"
      },
      "execution_count": null,
      "outputs": []
    },
    {
      "cell_type": "code",
      "source": [
        "from sklearn.model_selection import train_test_split\n",
        "from sklearn.metrics import accuracy_score\n",
        "\n",
        "#SEARCH FOR THE BEST C IN [1-200] WITH STEP=5 AND USING LINEAR \n",
        "#split data for train and test\n",
        "X_train, X_test, y_train, y_test = train_test_split(X, Y, test_size=0.2, random_state=42)"
      ],
      "metadata": {
        "id": "9GAgqt0UZUqI"
      },
      "execution_count": null,
      "outputs": []
    },
    {
      "cell_type": "code",
      "source": [
        "from sklearn.neighbors import KNeighborsClassifier\n",
        "\n",
        "acc_list = []\n",
        "\n",
        "# Calculating MAE error for K values between 3,20\n",
        "for i in range(3,20):\n",
        "    knn = KNeighborsClassifier(n_neighbors=i)\n",
        "    knn.fit(X_train, y_train)\n",
        "    pred_i = knn.predict(X_test)\n",
        "    acc = accuracy_score(y_test, pred_i)\n",
        "    acc_list.append(acc)"
      ],
      "metadata": {
        "id": "dRR-m3_IiSVx"
      },
      "execution_count": null,
      "outputs": []
    },
    {
      "cell_type": "code",
      "source": [
        "import matplotlib.pyplot as plt \n",
        "\n",
        "plt.figure(figsize=(12, 6))\n",
        "plt.plot(range(3,20), acc_list, color='red', \n",
        "         linestyle='dashed', marker='o',\n",
        "         markerfacecolor='blue', markersize=10)\n",
        "         \n",
        "plt.title('K Value MAE')\n",
        "plt.xlabel('K Value')\n",
        "plt.ylabel('Accuracy')"
      ],
      "metadata": {
        "colab": {
          "base_uri": "https://localhost:8080/",
          "height": 401
        },
        "id": "Vxir0nFdhXZk",
        "outputId": "1691618f-fa78-4cce-d998-10448eb94ded"
      },
      "execution_count": null,
      "outputs": [
        {
          "output_type": "execute_result",
          "data": {
            "text/plain": [
              "Text(0, 0.5, 'Accuracy')"
            ]
          },
          "metadata": {},
          "execution_count": 12
        },
        {
          "output_type": "display_data",
          "data": {
            "text/plain": [
              "<Figure size 864x432 with 1 Axes>"
            ],
            "image/png": "[encoded data removed]"
          },
          "metadata": {
            "needs_background": "light"
          }
        }
      ]
    }
  ]
}